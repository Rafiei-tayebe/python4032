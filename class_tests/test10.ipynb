{
 "cells": [
  {
   "cell_type": "code",
   "execution_count": null,
   "id": "99181ec0",
   "metadata": {},
   "outputs": [
    {
     "name": "stdout",
     "output_type": "stream",
     "text": [
      "[1, 'salam', '3', 1.2, 'hello', '5', [], [1, 2, 3], 12]\n"
     ]
    }
   ],
   "source": [
    "mylist = [1, 2, '3', 1.2, 'hello', [], [1,2,3]]\n",
    "mylist[1] = 'salam'\n",
    "mylist.append(12)\n",
    "mylist.insert(5, '5')\n",
    "print(mylist)"
   ]
  },
  {
   "cell_type": "code",
   "execution_count": null,
   "id": "004a27e0",
   "metadata": {},
   "outputs": [
    {
     "name": "stdout",
     "output_type": "stream",
     "text": [
      "2\n"
     ]
    },
    {
     "ename": "TypeError",
     "evalue": "'tuple' object does not support item assignment",
     "output_type": "error",
     "traceback": [
      "\u001b[1;31m---------------------------------------------------------------------------\u001b[0m",
      "\u001b[1;31mTypeError\u001b[0m                                 Traceback (most recent call last)",
      "Input \u001b[1;32mIn [3]\u001b[0m, in \u001b[0;36m<cell line: 3>\u001b[1;34m()\u001b[0m\n\u001b[0;32m      1\u001b[0m mytuple \u001b[38;5;241m=\u001b[39m (\u001b[38;5;241m1\u001b[39m, \u001b[38;5;124m\"\u001b[39m\u001b[38;5;124msalam\u001b[39m\u001b[38;5;124m\"\u001b[39m, \u001b[38;5;241m2\u001b[39m, [], [\u001b[38;5;241m1\u001b[39m,\u001b[38;5;241m2\u001b[39m], (\u001b[38;5;241m1\u001b[39m, \u001b[38;5;241m4\u001b[39m), \u001b[38;5;241m1.2\u001b[39m)\n\u001b[0;32m      2\u001b[0m \u001b[38;5;28mprint\u001b[39m(mytuple[\u001b[38;5;241m2\u001b[39m])\n\u001b[1;32m----> 3\u001b[0m \u001b[43mmytuple\u001b[49m\u001b[43m[\u001b[49m\u001b[38;5;241;43m2\u001b[39;49m\u001b[43m]\u001b[49m \u001b[38;5;241m=\u001b[39m \u001b[38;5;241m1\u001b[39m\n",
      "\u001b[1;31mTypeError\u001b[0m: 'tuple' object does not support item assignment"
     ]
    }
   ],
   "source": [
    "mytuple = (1, \"salam\", 2, [], [1,2], (1, 4), 1.2)\n",
    "print(mytuple[2])\n"
   ]
  },
  {
   "cell_type": "code",
   "execution_count": 5,
   "id": "f91a6567",
   "metadata": {},
   "outputs": [
    {
     "name": "stdout",
     "output_type": "stream",
     "text": [
      "{1, 2, 3, '1'}\n"
     ]
    }
   ],
   "source": [
    "myset1 = {1, 2, 3, \"1\", 1, 2}\n",
    "myset2 = {1, 10}\n",
    "print(myset1)"
   ]
  },
  {
   "cell_type": "code",
   "execution_count": 10,
   "id": "affe12d1",
   "metadata": {},
   "outputs": [
    {
     "name": "stdout",
     "output_type": "stream",
     "text": [
      "{1, 2, 3, 4, '1'}\n"
     ]
    }
   ],
   "source": [
    "myset1.add(1)\n",
    "myset1.update([1, 2, 3, 4])\n",
    "print(myset1)"
   ]
  },
  {
   "cell_type": "code",
   "execution_count": 8,
   "id": "3914797e",
   "metadata": {},
   "outputs": [
    {
     "data": {
      "text/plain": [
       "{'1', 2, 3}"
      ]
     },
     "execution_count": 8,
     "metadata": {},
     "output_type": "execute_result"
    }
   ],
   "source": [
    "myset1.difference(myset2)"
   ]
  },
  {
   "cell_type": "code",
   "execution_count": null,
   "id": "ea9b6735",
   "metadata": {},
   "outputs": [
    {
     "name": "stdout",
     "output_type": "stream",
     "text": [
      "[1, 2]\n"
     ]
    }
   ],
   "source": [
    "a = [1, 2]\n",
    "b = a.copy() # b = [1, 2]\n",
    "\n",
    "a += [3] # a = [1,2, 3]\n",
    "print(b)"
   ]
  },
  {
   "cell_type": "code",
   "execution_count": null,
   "id": "d538c768",
   "metadata": {},
   "outputs": [
    {
     "name": "stdout",
     "output_type": "stream",
     "text": [
      "{1, 2, 3, 4, '1'}\n",
      "None\n",
      "{1}\n"
     ]
    }
   ],
   "source": [
    "print(myset1)\n",
    "print(myset1.intersection(myset2))\n",
    "print(myset1)"
   ]
  },
  {
   "cell_type": "code",
   "execution_count": null,
   "id": "81dfa2f8",
   "metadata": {},
   "outputs": [
    {
     "name": "stdout",
     "output_type": "stream",
     "text": [
      "salam\n"
     ]
    }
   ],
   "source": [
    "mydict = {0 : [\"salam\", \"s\", \"ss\"], 1: \"sib\"}\n",
    "print(mydict[0])"
   ]
  },
  {
   "cell_type": "code",
   "execution_count": null,
   "id": "dd4e37b4",
   "metadata": {},
   "outputs": [],
   "source": [
    "marks = [10, 11, 20, 19, 18]\n",
    "names = [\"x\", 'y', 'z', 'f', 'e']\n",
    "data = {'x': 10, \"y\":11 }"
   ]
  },
  {
   "cell_type": "code",
   "execution_count": null,
   "id": "77689b81",
   "metadata": {},
   "outputs": [],
   "source": [
    "data = dict()\n",
    "while True:\n",
    "    inp = input()\n",
    "    if inp == 'q': break\n",
    "    if inp.startswith('add'): #inp='add Ali 09954101020'\n",
    "        inp = inp.split() # ['add', 'Ali', '09954101020']\n",
    "        inp[1] = inp[1].lower()\n",
    "        data[inp[1]] = inp[2]\n",
    "        print('entry added', inp[1], inp[2])\n",
    "    if inp.startswith('look'): # lookup Ali\n",
    "        inp = inp.split()\n",
    "        inp[1] = inp[1].lower() # ali\n",
    "        for name in data:\n",
    "            if name == inp[1]:\n",
    "                print(name, \":\", data[name])\n",
    "    if inp.startswith('delete'):\n",
    "        inp = inp.split()\n",
    "        inp[1] = inp[1].lower()\n",
    "        del data[inp[1]]\n",
    "        \n",
    "                \n",
    "        \n",
    "        \n",
    "        \n",
    "    \n",
    "    "
   ]
  },
  {
   "cell_type": "code",
   "execution_count": 24,
   "id": "d553c4c1",
   "metadata": {},
   "outputs": [
    {
     "data": {
      "text/plain": [
       "'nist'"
      ]
     },
     "execution_count": 24,
     "metadata": {},
     "output_type": "execute_result"
    }
   ],
   "source": [
    "#print(mydict[2])\n",
    "mydict.get(2, \"nist\")"
   ]
  },
  {
   "cell_type": "code",
   "execution_count": null,
   "id": "07d09d57",
   "metadata": {},
   "outputs": [
    {
     "data": {
      "text/plain": [
       "[(0, 'salam'), (1, 'sib')]"
      ]
     },
     "execution_count": 28,
     "metadata": {},
     "output_type": "execute_result"
    }
   ],
   "source": [
    "list(mydict.items())\n",
    "mydict."
   ]
  },
  {
   "cell_type": "code",
   "execution_count": 29,
   "id": "95f247c9",
   "metadata": {},
   "outputs": [
    {
     "name": "stdout",
     "output_type": "stream",
     "text": [
      "{0: 'salam', 1: 'sib'}\n"
     ]
    }
   ],
   "source": [
    "print(mydict)"
   ]
  },
  {
   "cell_type": "code",
   "execution_count": 31,
   "id": "2df21a33",
   "metadata": {},
   "outputs": [
    {
     "name": "stdout",
     "output_type": "stream",
     "text": [
      "{0: 'hi', 1: 'sib', 2: 'hi'}\n"
     ]
    }
   ],
   "source": [
    "mydict[2] = \"hi\"\n",
    "print(mydict)"
   ]
  },
  {
   "cell_type": "code",
   "execution_count": 32,
   "id": "c94baf19",
   "metadata": {},
   "outputs": [
    {
     "name": "stdout",
     "output_type": "stream",
     "text": [
      "0\n",
      "2\n"
     ]
    }
   ],
   "source": [
    "for key in mydict:\n",
    "    if mydict[key] == 'hi':\n",
    "        print(key)"
   ]
  },
  {
   "cell_type": "code",
   "execution_count": 20,
   "id": "cce06c89",
   "metadata": {},
   "outputs": [
    {
     "name": "stdout",
     "output_type": "stream",
     "text": [
      "ali\n",
      "10\n",
      "maryam\n",
      "7\n",
      "sina\n",
      "19\n"
     ]
    }
   ],
   "source": [
    "x = {'ali': 10, \"maryam\": 7, \"sina\": 19}\n",
    "for key in x:\n",
    "    print(key)\n",
    "    print(x[key])\n"
   ]
  },
  {
   "cell_type": "code",
   "execution_count": null,
   "id": "5a14eeec",
   "metadata": {},
   "outputs": [
    {
     "name": "stdout",
     "output_type": "stream",
     "text": [
      "{'ali': 1, 'x': 1}\n"
     ]
    }
   ],
   "source": [
    "dic = dict()\n",
    "while True:\n",
    "    inp = input()\n",
    "    if inp == 'q' : break\n",
    "    if inp not in dic:\n",
    "        dic[inp] = 1\n",
    "    else:\n",
    "        dic[inp] += 1      \n",
    "print(dic)\n",
    "    \n",
    "    \n",
    "    \n",
    "    "
   ]
  },
  {
   "cell_type": "code",
   "execution_count": null,
   "id": "44e29700",
   "metadata": {},
   "outputs": [],
   "source": [
    "dic = dict()\n",
    "while True:\n",
    "    inp = input()\n",
    "    if inp == 'q' : break\n",
    "    dic[inp] = dic.get(inp, 0) + 1     \n",
    "print(dic)"
   ]
  },
  {
   "cell_type": "code",
   "execution_count": 7,
   "id": "9c3b138b",
   "metadata": {},
   "outputs": [
    {
     "data": {
      "text/plain": [
       "0"
      ]
     },
     "execution_count": 7,
     "metadata": {},
     "output_type": "execute_result"
    }
   ],
   "source": [
    "#dic['x']\n",
    "dic.get('y', 0)"
   ]
  },
  {
   "cell_type": "code",
   "execution_count": null,
   "id": "eab4426c",
   "metadata": {},
   "outputs": [],
   "source": [
    "data = dict()\n",
    "find_count = 0\n",
    "while True:\n",
    "    inp = input().split()\n",
    "    if inp[0] == 'exit' : break\n",
    "    elif inp[0] == 'Add': # \"Add <username> <gender> <age> <id>\"\n",
    "        data[inp[-1]] = {'name' : inp[1], \n",
    "                         'age' : inp[3],\n",
    "                         'gender' : inp[2]}\n",
    "        print(f'User {inp[-1]} added successfully')\n",
    "    \n",
    "    elif inp[0] == \"Find\": # Find ma\n",
    "        find_count += 1\n",
    "        ID = inp[1]\n",
    "        \n",
    "        flag = 0\n",
    "        for key in data:\n",
    "            if key.lower().startswith(ID): # 1 Ali male 20 ali20ali\n",
    "                print(find_count, data[ID]['name'], data[ID]['gender'], data['ID']['age'], ID)\n",
    "                flag += 1\n",
    "        if flag == 0:\n",
    "            print('No user found')\n",
    "         \n",
    "        \n",
    "         \n",
    "        \n"
   ]
  },
  {
   "cell_type": "code",
   "execution_count": 18,
   "id": "596e3ebd",
   "metadata": {},
   "outputs": [
    {
     "name": "stdout",
     "output_type": "stream",
     "text": [
      "2279109251136\n",
      "2279137770368\n"
     ]
    }
   ],
   "source": [
    "x = [1, 2]\n",
    "y = x.copy()\n",
    "x += [3]\n",
    "print(id(x))\n",
    "print(id(y))"
   ]
  },
  {
   "cell_type": "code",
   "execution_count": 19,
   "id": "b45f1510",
   "metadata": {},
   "outputs": [
    {
     "name": "stdout",
     "output_type": "stream",
     "text": [
      "['ali', 'alireze', 'maryam', 'mina']\n"
     ]
    }
   ],
   "source": [
    "x = ['ali', 'alireze', 'maryam', 'mina']\n",
    "x.sort()\n",
    "print(x)"
   ]
  },
  {
   "cell_type": "code",
   "execution_count": 11,
   "id": "b7501d17",
   "metadata": {},
   "outputs": [],
   "source": [
    "data = dict()\n",
    "#data['ali12m'] = ['Ali', '12', 'male']\n",
    "data['ali12m'] = {'name': 'Ali', 'age': '12', 'gender': 'male' }\n",
    "\n",
    "#print(data['ali12m'][0]) # name in in the index 0\n",
    "#print(data['ali12m']['name'])\n",
    "#print(data.get('ali12m').get('name'))"
   ]
  },
  {
   "cell_type": "code",
   "execution_count": 12,
   "id": "5782eaf1",
   "metadata": {},
   "outputs": [
    {
     "name": "stdout",
     "output_type": "stream",
     "text": [
      "{'ali12m': {'name': 'Ali', 'age': '12', 'gender': 'male'}}\n"
     ]
    }
   ],
   "source": [
    "print(data)"
   ]
  },
  {
   "cell_type": "code",
   "execution_count": null,
   "id": "2c17b228",
   "metadata": {},
   "outputs": [],
   "source": [
    "data['ali12m']['age']"
   ]
  }
 ],
 "metadata": {
  "kernelspec": {
   "display_name": "Python 3",
   "language": "python",
   "name": "python3"
  },
  "language_info": {
   "codemirror_mode": {
    "name": "ipython",
    "version": 3
   },
   "file_extension": ".py",
   "mimetype": "text/x-python",
   "name": "python",
   "nbconvert_exporter": "python",
   "pygments_lexer": "ipython3",
   "version": "3.10.6"
  }
 },
 "nbformat": 4,
 "nbformat_minor": 5
}
