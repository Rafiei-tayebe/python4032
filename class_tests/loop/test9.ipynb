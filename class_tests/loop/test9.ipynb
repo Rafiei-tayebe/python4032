{
 "cells": [
  {
   "cell_type": "code",
   "execution_count": 9,
   "id": "78cba7f8",
   "metadata": {},
   "outputs": [
    {
     "data": {
      "text/plain": [
       "'hlow'"
      ]
     },
     "execution_count": 9,
     "metadata": {},
     "output_type": "execute_result"
    }
   ],
   "source": [
    "s[0: -4 : 2]"
   ]
  },
  {
   "cell_type": "code",
   "execution_count": 18,
   "id": "9ace1b94",
   "metadata": {},
   "outputs": [],
   "source": [
    "s = \"3847653872\""
   ]
  },
  {
   "cell_type": "code",
   "execution_count": 28,
   "id": "760c72cb",
   "metadata": {},
   "outputs": [
    {
     "name": "stdout",
     "output_type": "stream",
     "text": [
      "0\n",
      "6\n"
     ]
    }
   ],
   "source": [
    "result = -1\n",
    "while True:\n",
    "    result = s.find('3', result+1) # result  = -1\n",
    "    if result == -1: break\n",
    "    print(result)"
   ]
  },
  {
   "cell_type": "code",
   "execution_count": null,
   "id": "4db590c6",
   "metadata": {},
   "outputs": [],
   "source": []
  }
 ],
 "metadata": {
  "kernelspec": {
   "display_name": "Python 3",
   "language": "python",
   "name": "python3"
  },
  "language_info": {
   "codemirror_mode": {
    "name": "ipython",
    "version": 3
   },
   "file_extension": ".py",
   "mimetype": "text/x-python",
   "name": "python",
   "nbconvert_exporter": "python",
   "pygments_lexer": "ipython3",
   "version": "3.10.6"
  }
 },
 "nbformat": 4,
 "nbformat_minor": 5
}
