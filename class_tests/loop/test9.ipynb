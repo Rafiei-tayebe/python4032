{
 "cells": [
  {
   "cell_type": "code",
   "execution_count": 9,
   "id": "78cba7f8",
   "metadata": {},
   "outputs": [
    {
     "data": {
      "text/plain": [
       "'hlow'"
      ]
     },
     "execution_count": 9,
     "metadata": {},
     "output_type": "execute_result"
    }
   ],
   "source": [
    "s[0: -4 : 2]"
   ]
  },
  {
   "cell_type": "code",
   "execution_count": 47,
   "id": "9ace1b94",
   "metadata": {},
   "outputs": [],
   "source": [
    "s = \"3847653872\"\n",
    "s2 = \"hello world\""
   ]
  },
  {
   "cell_type": "code",
   "execution_count": 48,
   "id": "77917244",
   "metadata": {},
   "outputs": [
    {
     "data": {
      "text/plain": [
       "['he', '', 'o wor', 'd']"
      ]
     },
     "execution_count": 48,
     "metadata": {},
     "output_type": "execute_result"
    }
   ],
   "source": [
    "s2.split('l')"
   ]
  },
  {
   "cell_type": "code",
   "execution_count": null,
   "id": "3eeb96c2",
   "metadata": {},
   "outputs": [],
   "source": []
  },
  {
   "cell_type": "code",
   "execution_count": 28,
   "id": "760c72cb",
   "metadata": {},
   "outputs": [
    {
     "name": "stdout",
     "output_type": "stream",
     "text": [
      "0\n",
      "6\n"
     ]
    }
   ],
   "source": [
    "result = -1\n",
    "while True:\n",
    "    result = s.find('3', result+1) # result  = -1\n",
    "    if result == -1: break\n",
    "    print(result)"
   ]
  },
  {
   "cell_type": "code",
   "execution_count": 4,
   "id": "4db590c6",
   "metadata": {},
   "outputs": [
    {
     "name": "stdout",
     "output_type": "stream",
     "text": [
      "1\n",
      "[1, 2]\n",
      "[1, 2, 'salam']\n"
     ]
    }
   ],
   "source": [
    "mylist = [1, 2, 'salam', 12.11, [1, 2]]\n",
    "print(mylist[0])\n",
    "print(mylist[-1])\n",
    "print(mylist[:3])"
   ]
  },
  {
   "cell_type": "code",
   "execution_count": 13,
   "id": "4c431a7e",
   "metadata": {},
   "outputs": [
    {
     "name": "stdout",
     "output_type": "stream",
     "text": [
      "[1, 'salam', 'SALAM', [1, 2], 1, 2, 3, 4]\n",
      "[1, 'salam', 'SALAM', [1, 2], 1, 2, 3, 4]\n"
     ]
    }
   ],
   "source": [
    "print(mylist)\n",
    "#mylist.append('last')\n",
    "#mylist.extend([1, 2, 3, 4])\n",
    "#mylist.remove(2)\n",
    "#mylist.pop(2)\n",
    "#mylist.insert(2, \"hello\")\n",
    "#mylist[2] = \"SALAM\"\n",
    "#print(mylist.count(1))\n",
    "#print(mylist.index(0))\n",
    "\n",
    "print(mylist)"
   ]
  },
  {
   "cell_type": "code",
   "execution_count": null,
   "id": "db535785",
   "metadata": {},
   "outputs": [
    {
     "name": "stdout",
     "output_type": "stream",
     "text": [
      "[19.9, 11.1, 10, 1, -100]\n"
     ]
    }
   ],
   "source": [
    "mylist2 = [1, 10, 11.1, 19.9, -100]\n",
    "mylist2.sort()\n",
    "mylist2.reverse()\n",
    "print(mylist2)"
   ]
  },
  {
   "cell_type": "code",
   "execution_count": 18,
   "id": "dbbc484a",
   "metadata": {},
   "outputs": [
    {
     "name": "stdout",
     "output_type": "stream",
     "text": [
      "Help on built-in function sort:\n",
      "\n",
      "sort(*, key=None, reverse=False) method of builtins.list instance\n",
      "    Sort the list in ascending order and return None.\n",
      "    \n",
      "    The sort is in-place (i.e. the list itself is modified) and stable (i.e. the\n",
      "    order of two equal elements is maintained).\n",
      "    \n",
      "    If a key function is given, apply it once to each list item and sort them,\n",
      "    ascending or descending, according to their function values.\n",
      "    \n",
      "    The reverse flag can be set to sort in descending order.\n",
      "\n",
      "None\n"
     ]
    }
   ],
   "source": [
    "print(help(mylist2.sort))"
   ]
  },
  {
   "cell_type": "code",
   "execution_count": 23,
   "id": "5c521e88",
   "metadata": {},
   "outputs": [
    {
     "name": "stdout",
     "output_type": "stream",
     "text": [
      "19.9|11.1|10|1|-100\n"
     ]
    }
   ],
   "source": [
    "print(*mylist2, sep = \"|\")"
   ]
  },
  {
   "cell_type": "code",
   "execution_count": 25,
   "id": "6df28f1c",
   "metadata": {},
   "outputs": [
    {
     "name": "stdout",
     "output_type": "stream",
     "text": [
      "\u001b[1;31mSignature:\u001b[0m \u001b[0mmylist2\u001b[0m\u001b[1;33m.\u001b[0m\u001b[0mextend\u001b[0m\u001b[1;33m(\u001b[0m\u001b[0miterable\u001b[0m\u001b[1;33m,\u001b[0m \u001b[1;33m/\u001b[0m\u001b[1;33m)\u001b[0m\u001b[1;33m\u001b[0m\u001b[1;33m\u001b[0m\u001b[0m\n",
      "\u001b[1;31mDocstring:\u001b[0m Extend list by appending elements from the iterable.\n",
      "\u001b[1;31mType:\u001b[0m      builtin_function_or_method\n"
     ]
    }
   ],
   "source": [
    "mylist2.extend?"
   ]
  },
  {
   "cell_type": "code",
   "execution_count": 26,
   "id": "5f68ce53",
   "metadata": {},
   "outputs": [
    {
     "name": "stdout",
     "output_type": "stream",
     "text": [
      "[1, 2, 3, 4, 5, 6]\n"
     ]
    }
   ],
   "source": [
    "a = [1, 2, 3]\n",
    "b = [4, 5, 6]\n",
    "print(a+b)"
   ]
  },
  {
   "cell_type": "code",
   "execution_count": 28,
   "id": "76e0a05c",
   "metadata": {},
   "outputs": [
    {
     "name": "stdout",
     "output_type": "stream",
     "text": [
      "['apple', 'berry', 'orange', 'pie']\n"
     ]
    }
   ],
   "source": [
    "mylist3 = ['apple', 'orange', 'berry', 'pie']\n",
    "mylist3.sort()\n",
    "print(mylist3)"
   ]
  },
  {
   "cell_type": "code",
   "execution_count": 31,
   "id": "069ff945",
   "metadata": {},
   "outputs": [
    {
     "name": "stdout",
     "output_type": "stream",
     "text": [
      "['apple', 'berry', 'orange', 'pie']\n",
      "['apple', 'berry', 'orange', 'pie']\n"
     ]
    }
   ],
   "source": [
    "print(mylist3)\n",
    "\n",
    "for member in mylist3:\n",
    "    member = member.upper()\n",
    "    \n",
    "print(mylist3)"
   ]
  },
  {
   "cell_type": "code",
   "execution_count": 32,
   "id": "fa9d49b4",
   "metadata": {},
   "outputs": [
    {
     "name": "stdout",
     "output_type": "stream",
     "text": [
      "['apple', 'berry', 'orange', 'pie']\n",
      "['APPLE', 'BERRY', 'ORANGE', 'PIE']\n"
     ]
    }
   ],
   "source": [
    "print(mylist3)\n",
    "\n",
    "for index in range(len(mylist3)):\n",
    "    mylist3[index] = mylist3[index].upper()\n",
    "    \n",
    "print(mylist3)"
   ]
  },
  {
   "cell_type": "code",
   "execution_count": 34,
   "id": "ed48a070",
   "metadata": {},
   "outputs": [
    {
     "name": "stdout",
     "output_type": "stream",
     "text": [
      "[1, 2, 3, 4, 5]\n",
      "[2, 3, 4, 5, 6]\n"
     ]
    }
   ],
   "source": [
    "l1 = ['1', '2', '3', '4', '5']\n",
    "for index in range(len(l1)):\n",
    "    l1[index] = int(l1[index])\n",
    "    \n",
    "def increment(n):\n",
    "    return n+1\n",
    "\n",
    "print(l1)\n",
    "l1 = list(map(increment, l1))\n",
    "print(l1)"
   ]
  },
  {
   "cell_type": "code",
   "execution_count": null,
   "id": "29aaa3dc",
   "metadata": {},
   "outputs": [],
   "source": [
    "n, m = map(int, input().split()) # n = 9, m=2\n",
    "mylist = list(map(int, input().split())) # 8 2 1 6 2 1 4 5 7\n"
   ]
  },
  {
   "cell_type": "code",
   "execution_count": 40,
   "id": "d608ee72",
   "metadata": {},
   "outputs": [],
   "source": [
    "mylist.sort()"
   ]
  },
  {
   "cell_type": "code",
   "execution_count": 42,
   "id": "77f614db",
   "metadata": {},
   "outputs": [
    {
     "data": {
      "text/plain": [
       "2"
      ]
     },
     "execution_count": 42,
     "metadata": {},
     "output_type": "execute_result"
    }
   ],
   "source": [
    "mylist.index(2)"
   ]
  },
  {
   "cell_type": "code",
   "execution_count": null,
   "id": "1824f8ea",
   "metadata": {},
   "outputs": [
    {
     "data": {
      "text/plain": [
       "[1, 1, 2, 2, 3, 5, 6, 7, 8]"
      ]
     },
     "execution_count": 43,
     "metadata": {},
     "output_type": "execute_result"
    }
   ],
   "source": [
    "index = mylist.index(m) # 2\n",
    "while True:\n",
    "    if mylist[index+1] > m:\n",
    "        print(mylist(index+1)) \n",
    "        break\n",
    "    index += 1 # 3"
   ]
  },
  {
   "cell_type": "code",
   "execution_count": null,
   "id": "2d98c5c2",
   "metadata": {},
   "outputs": [],
   "source": [
    "'''\n",
    "4\n",
    "shanbe 1shanbe 2shanbe 3shanbe\n",
    "1\n",
    "5shanbe\n",
    "3\n",
    "1shanbe 3shanbe 5shanbe\n",
    "'''"
   ]
  },
  {
   "cell_type": "code",
   "execution_count": 46,
   "id": "c8d3bf8a",
   "metadata": {},
   "outputs": [
    {
     "name": "stdout",
     "output_type": "stream",
     "text": [
      "['shanbe', '1shanbe', '2shanbe', '3shanbe', '5shanbe']\n"
     ]
    }
   ],
   "source": [
    "working_days = [] # list()\n",
    "for i in range(3):\n",
    "    n = int(input())\n",
    "    days = input().split()\n",
    "    for day in days:\n",
    "        if day not in working_days:\n",
    "            working_days.append(day)\n",
    "    \n",
    "print(working_days)\n",
    "        "
   ]
  },
  {
   "cell_type": "code",
   "execution_count": 47,
   "id": "bffcdadb",
   "metadata": {},
   "outputs": [
    {
     "name": "stdout",
     "output_type": "stream",
     "text": [
      "2\n"
     ]
    }
   ],
   "source": [
    "print(7-len(working_days))"
   ]
  },
  {
   "cell_type": "code",
   "execution_count": null,
   "id": "5449338c",
   "metadata": {},
   "outputs": [],
   "source": [
    "week = [0, 0, 0, 0, 0, 0, 0]\n",
    "for i in range(3):\n",
    "    days = input().split() # [\"shanbe\", \"1shanbe\"]\n",
    "    for day in days: # day = 1shanbe\n",
    "        if day == \"shanbe\" : week[0]+=1\n",
    "        elif day == \"jome\" : week[-1] += 1\n",
    "        else:\n",
    "            week[int(day[0])] += 1 # day = \"1shanbe\""
   ]
  },
  {
   "cell_type": "code",
   "execution_count": 50,
   "id": "b65ed3f5",
   "metadata": {},
   "outputs": [
    {
     "name": "stdout",
     "output_type": "stream",
     "text": [
      "[2, 2, 0, 1, 0, 0, 1]\n"
     ]
    }
   ],
   "source": [
    "print(week)"
   ]
  },
  {
   "cell_type": "code",
   "execution_count": 52,
   "id": "e2dee722",
   "metadata": {},
   "outputs": [
    {
     "name": "stdout",
     "output_type": "stream",
     "text": [
      "5\n",
      "4\n",
      "3\n",
      "2\n",
      "1\n"
     ]
    }
   ],
   "source": [
    "mylist = []\n",
    "while True:\n",
    "    n = int(input())\n",
    "    if n == 0: break\n",
    "    mylist.append(n)\n",
    "    \n",
    "for index in range(-1,-len(mylist)-1 ,-1):\n",
    "    print(mylist[index])"
   ]
  },
  {
   "cell_type": "code",
   "execution_count": 68,
   "id": "17216e56",
   "metadata": {},
   "outputs": [],
   "source": [
    "\n",
    "\n",
    "matrix1 = [[1, 2, 3],\n",
    "           [4, 5, 6],\n",
    "           [7, 8, 9]] #list2D\n",
    "\n",
    "matrix2 = [[1, 2, 3],\n",
    "           [4, 5, 6], \n",
    "           [7, 8, 9]] #list2D\n",
    "\n",
    "matrix3 = [[0, 0, 0],\n",
    "           [0, 0, 0], \n",
    "           [0, 0, 0]] #list2D\n",
    "\n",
    "\n",
    "\n"
   ]
  },
  {
   "cell_type": "code",
   "execution_count": null,
   "id": "b2e4b0c4",
   "metadata": {},
   "outputs": [],
   "source": [
    "vector1 = [1, 2, 3] # list1D\n",
    "vector2 = [10, 20, 30]\n",
    "\n",
    "for j in range(3): # j = 1\n",
    "    for i in range(3): # i = 0\n",
    "        for k in range(3): # k = 1\n",
    "            matrix3[j][i] += matrix1[j][k] * matrix2[k][i]"
   ]
  },
  {
   "cell_type": "code",
   "execution_count": 70,
   "id": "4ce1111f",
   "metadata": {},
   "outputs": [
    {
     "name": "stdout",
     "output_type": "stream",
     "text": [
      "[[30, 36, 42], [66, 81, 96], [102, 126, 150]]\n"
     ]
    }
   ],
   "source": [
    "print(matrix3)"
   ]
  },
  {
   "cell_type": "code",
   "execution_count": null,
   "id": "d33df285",
   "metadata": {},
   "outputs": [
    {
     "name": "stdout",
     "output_type": "stream",
     "text": [
      "[['*', 0, 0], [0, 0, '*'], [0, 0, 0], [0, 0, 0]]\n"
     ]
    }
   ],
   "source": [
    "row, col = map(int, input().split())\n",
    "n = int(input())\n",
    "board = [[0 for i in range(col)] for j in range(row)]\n",
    "for i in range(n) :\n",
    "    r, c = map(int, input().split())\n",
    "    r -= 1\n",
    "    c -= 1\n",
    "    board[r][c] = '*'\n",
    "    for x in range(r-1, r+1):\n",
    "        #for y in \n",
    "        if board[x][y] != '*' : board[x][y]+=1\n",
    "    \n",
    "    \n",
    "\n",
    "\n",
    "\n"
   ]
  },
  {
   "cell_type": "code",
   "execution_count": 78,
   "id": "4a006ca7",
   "metadata": {},
   "outputs": [
    {
     "name": "stdout",
     "output_type": "stream",
     "text": [
      "* 0 0 \n",
      "0 0 * \n",
      "0 0 0 \n",
      "0 0 0 \n"
     ]
    }
   ],
   "source": [
    "for j in range(row):\n",
    "    for i in range(col):\n",
    "        print(board[j][i], end = ' ')\n",
    "    print()"
   ]
  },
  {
   "cell_type": "code",
   "execution_count": null,
   "id": "e07b3e4e",
   "metadata": {},
   "outputs": [
    {
     "name": "stdout",
     "output_type": "stream",
     "text": [
      "[[0, 0, 0], [0, 0, 0], [0, 0, 0], [0, 0, 0]]\n"
     ]
    }
   ],
   "source": [
    "col = 3\n",
    "row = 4\n",
    "l2 = []\n",
    "for j in range(row): # j = 2\n",
    "    l1 = [] # l1 = []\n",
    "    for i in range(col): # i = 0\n",
    "        l1.append(0) # l1 = [0, 0, 0]\n",
    "    l2.append(l1) # l2 = [[0, 0, 0],[0, 0, 0] ]\n",
    "    \n",
    "print(l2)"
   ]
  },
  {
   "cell_type": "code",
   "execution_count": null,
   "id": "9b9cfb3b",
   "metadata": {},
   "outputs": [
    {
     "name": "stdout",
     "output_type": "stream",
     "text": [
      "[[0, 1, 2, 3, 4], [0, 1, 2, 3, 4], [0, 1, 2, 3, 4]]\n"
     ]
    }
   ],
   "source": [
    "# list compre.\n",
    "    \n",
    "l = [[i for i in range(col)] for j in range(row)]\n",
    "print(l)"
   ]
  },
  {
   "cell_type": "code",
   "execution_count": null,
   "id": "251230ed",
   "metadata": {},
   "outputs": [],
   "source": []
  }
 ],
 "metadata": {
  "kernelspec": {
   "display_name": "Python 3",
   "language": "python",
   "name": "python3"
  },
  "language_info": {
   "codemirror_mode": {
    "name": "ipython",
    "version": 3
   },
   "file_extension": ".py",
   "mimetype": "text/x-python",
   "name": "python",
   "nbconvert_exporter": "python",
   "pygments_lexer": "ipython3",
   "version": "3.10.6"
  }
 },
 "nbformat": 4,
 "nbformat_minor": 5
}
